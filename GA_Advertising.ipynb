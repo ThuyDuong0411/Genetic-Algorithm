{
  "nbformat": 4,
  "nbformat_minor": 0,
  "metadata": {
    "colab": {
      "provenance": []
    },
    "kernelspec": {
      "name": "python3",
      "display_name": "Python 3"
    },
    "language_info": {
      "name": "python"
    }
  },
  "cells": [
    {
      "cell_type": "code",
      "execution_count": 1,
      "metadata": {
        "id": "LcIGLOozgq7F"
      },
      "outputs": [],
      "source": [
        "# aivietnam.ai - advertising\n",
        "import numpy as np\n",
        "# from numpy import genfromtxt\n",
        "import matplotlib.pyplot as plt\n",
        "import random\n",
        "random.seed(0) # please do not remove this line\n",
        "%matplotlib inline\n",
        "\n",
        "def load_data_from_file(fileName = \"advertising.csv\"):\n",
        "  data = np.genfromtxt(fileName, dtype=None, delimiter=',', skip_header=1)\n",
        "  features_X = data[:, :3]\n",
        "  sales_Y = data[:, 3]\n",
        "\n",
        "  intercept = np.ones((features_X.shape[0], 1))\n",
        "  features_X = np.concatenate((intercept, features_X), axis=1)\n",
        "\n",
        "  return features_X, sales_Y\n"
      ]
    },
    {
      "cell_type": "code",
      "source": [
        "features_X,_ = load_data_from_file()\n",
        "print(features_X[:5,:])\n",
        "#"
      ],
      "metadata": {
        "colab": {
          "base_uri": "https://localhost:8080/"
        },
        "id": "KWzzkNRRnt6A",
        "outputId": "c5b96aff-aa50-4448-f337-4e0dbcac19c2"
      },
      "execution_count": 5,
      "outputs": [
        {
          "output_type": "stream",
          "name": "stdout",
          "text": [
            "[[  1.  230.1  37.8  69.2]\n",
            " [  1.   44.5  39.3  45.1]\n",
            " [  1.   17.2  45.9  69.3]\n",
            " [  1.  151.5  41.3  58.5]\n",
            " [  1.  180.8  10.8  58.4]]\n"
          ]
        }
      ]
    },
    {
      "cell_type": "code",
      "source": [
        "_, sales_Y = load_data_from_file()\n",
        "print(sales_Y.shape)"
      ],
      "metadata": {
        "colab": {
          "base_uri": "https://localhost:8080/"
        },
        "id": "Qba8F2vEkF4n",
        "outputId": "809960ac-1c97-455b-f64e-4f8cc813822f"
      },
      "execution_count": 6,
      "outputs": [
        {
          "output_type": "stream",
          "name": "stdout",
          "text": [
            "(200,)\n"
          ]
        }
      ]
    },
    {
      "cell_type": "code",
      "source": [
        "def generate_random_value(bound = 10):\n",
        "    return (random.random() - 0.5)*bound\n",
        "\n",
        "def create_individual(n=4, bound=10):\n",
        "    individual = [generate_random_value() for _ in range(n)]\n",
        "    return individual"
      ],
      "metadata": {
        "id": "loVUkRTromAK"
      },
      "execution_count": 10,
      "outputs": []
    },
    {
      "cell_type": "code",
      "source": [
        "individual = create_individual()\n",
        "print(individual)"
      ],
      "metadata": {
        "colab": {
          "base_uri": "https://localhost:8080/"
        },
        "id": "qAZnqHhWr2Bx",
        "outputId": "ccd49b40-dfae-448d-e3b7-a7e657f2d675"
      },
      "execution_count": 11,
      "outputs": [
        {
          "output_type": "stream",
          "name": "stdout",
          "text": [
            "[3.444218515250481, 2.5795440294030247, -0.79428419169155, -2.4108324970703663]\n"
          ]
        }
      ]
    },
    {
      "cell_type": "code",
      "source": [
        "def compute_loss(individual):\n",
        "    theta = np.array(individual)\n",
        "    y_hat = features_X.dot(theta)\n",
        "    loss  = np.multiply((y_hat-sales_Y), (y_hat-sales_Y)).mean()\n",
        "    return loss\n",
        "\n",
        "def compute_fitness(individual):\n",
        "    loss = compute_loss(individual)\n",
        "    fitness_value = 1 / (loss + 1)\n",
        "    return fitness_value"
      ],
      "metadata": {
        "id": "p_ozPbIzsGaY"
      },
      "execution_count": 12,
      "outputs": []
    },
    {
      "cell_type": "code",
      "source": [
        "features_X, sales_Y = load_data_from_file()\n",
        "individual = [4.09, 4.82, 3.10, 4.02]\n",
        "fitness_score = compute_fitness(individual)\n",
        "print(fitness_score)"
      ],
      "metadata": {
        "colab": {
          "base_uri": "https://localhost:8080/"
        },
        "id": "A5twjP5pskma",
        "outputId": "bf87b5f4-3a35-4d28-98c5-ad9e956e87a1"
      },
      "execution_count": 13,
      "outputs": [
        {
          "output_type": "stream",
          "name": "stdout",
          "text": [
            "1.0185991537088997e-06\n"
          ]
        }
      ]
    },
    {
      "cell_type": "code",
      "source": [
        "def crossover(individual1, individual2, crossover_rate = 0.9):\n",
        "    individual1_new = individual1.copy()\n",
        "    individual2_new = individual2.copy()\n",
        "\n",
        "\n",
        "    for i in range(len(individual1)):\n",
        "        if random.random() < crossover_rate:\n",
        "            individual1_new[i] = individual2[i]\n",
        "            individual2_new[i] = individual1[i]\n",
        "\n",
        "    return individual1_new, individual2_new"
      ],
      "metadata": {
        "id": "l7BXSBE0sWqF"
      },
      "execution_count": 14,
      "outputs": []
    },
    {
      "cell_type": "code",
      "source": [
        "individual1 = [4.09, 4.82, 3.10, 4.02]\n",
        "individual2 = [3.44, 2.57, -0.79, -2.41]\n",
        "\n",
        "individual1, individual2 = crossover(individual1, individual2, 2.0)\n",
        "print(\"individual1: \", individual1)\n",
        "print(\"individual2: \", individual2)"
      ],
      "metadata": {
        "colab": {
          "base_uri": "https://localhost:8080/"
        },
        "id": "jgPeWFdhsvx8",
        "outputId": "e3761d12-6bee-4274-e625-024354364198"
      },
      "execution_count": 15,
      "outputs": [
        {
          "output_type": "stream",
          "name": "stdout",
          "text": [
            "individual1:  [3.44, 2.57, -0.79, -2.41]\n",
            "individual2:  [4.09, 4.82, 3.1, 4.02]\n"
          ]
        }
      ]
    },
    {
      "cell_type": "code",
      "source": [
        "def mutate(individual, mutation_rate = 0.05):\n",
        "    individual_m = individual.copy()\n",
        "\n",
        "    for i in range(len(individual)):\n",
        "        if random.random() < mutation_rate:\n",
        "            individual_m[i] = generate_random_value()\n",
        "\n",
        "    return individual_m"
      ],
      "metadata": {
        "id": "xTd7Kj6iszEl"
      },
      "execution_count": 16,
      "outputs": []
    },
    {
      "cell_type": "code",
      "source": [
        "before_individual = [4.09, 4.82, 3.10, 4.02]\n",
        "after_individual = mutate(individual, mutation_rate = 2.0)\n",
        "print(before_individual == after_individual)"
      ],
      "metadata": {
        "colab": {
          "base_uri": "https://localhost:8080/"
        },
        "id": "ziaFzdsUs4ga",
        "outputId": "a7f4430e-4e78-4339-f576-029e25789ca5"
      },
      "execution_count": 17,
      "outputs": [
        {
          "output_type": "stream",
          "name": "stdout",
          "text": [
            "False\n"
          ]
        }
      ]
    },
    {
      "cell_type": "code",
      "source": [
        "def initializePopulation(m):\n",
        "  population = [create_individual() for _ in range(m)]\n",
        "  return population"
      ],
      "metadata": {
        "id": "eZwLz4sws8Wh"
      },
      "execution_count": 18,
      "outputs": []
    },
    {
      "cell_type": "code",
      "source": [
        "population = initializePopulation(100)\n",
        "print(len(population))"
      ],
      "metadata": {
        "colab": {
          "base_uri": "https://localhost:8080/"
        },
        "id": "QrjaxP3Fs-LL",
        "outputId": "e18c5b24-c049-4373-880a-f2823d25306a"
      },
      "execution_count": 19,
      "outputs": [
        {
          "output_type": "stream",
          "name": "stdout",
          "text": [
            "100\n"
          ]
        }
      ]
    },
    {
      "cell_type": "code",
      "source": [
        "def selection(sorted_old_population, m):\n",
        "    index1 = random.randint(0, m-1)\n",
        "    while True:\n",
        "        index2 = random.randint(0, m-1)\n",
        "        if (index2 != index1):\n",
        "            break\n",
        "\n",
        "    individual_s = sorted_old_population[index1]\n",
        "    if index2 > index1:\n",
        "        individual_s = sorted_old_population[index2]\n",
        "\n",
        "    return individual_s"
      ],
      "metadata": {
        "id": "fz93ujcxtBFW"
      },
      "execution_count": 20,
      "outputs": []
    },
    {
      "cell_type": "code",
      "source": [
        "population = initializePopulation(m=100)\n",
        "individual_s = selection(population, m = 100)\n",
        "print(individual_s)"
      ],
      "metadata": {
        "colab": {
          "base_uri": "https://localhost:8080/"
        },
        "id": "VOD1OtF8tJUo",
        "outputId": "7b0ef0fb-54b2-416d-c5e2-c35f9b76ce08"
      },
      "execution_count": 21,
      "outputs": [
        {
          "output_type": "stream",
          "name": "stdout",
          "text": [
            "[-1.7707102346493941, -0.44255615074371035, -1.7485653418675173, -4.711708834619053]\n"
          ]
        }
      ]
    },
    {
      "cell_type": "code",
      "source": [
        "def create_new_population(old_population, elitism=2, gen=1):\n",
        "    m = len(old_population)\n",
        "    sorted_population = sorted(old_population, key=compute_fitness)\n",
        "\n",
        "    if gen%1 == 0:\n",
        "        print(\"Best loss:\", compute_loss(sorted_population[m-1]), \"with chromsome: \", sorted_population[m-1])\n",
        "\n",
        "    new_population = []\n",
        "    while len(new_population) < m-elitism:\n",
        "        # selection\n",
        "        individual_s1 = selection(sorted_population, m)\n",
        "        individual_s2 = selection(sorted_population, m) # duplication\n",
        "\n",
        "        # crossover\n",
        "        individual_t1, individual_t2 = crossover(individual_s1, individual_s2)\n",
        "\n",
        "        # mutation\n",
        "        individual_m1 = mutate(individual_t1)\n",
        "        individual_m2 = mutate(individual_t2)\n",
        "\n",
        "        new_population.append(individual_m1)\n",
        "        new_population.append(individual_m2)\n",
        "\n",
        "    for ind in sorted_population[m-elitism:]:\n",
        "        new_population.append(ind.copy())\n",
        "\n",
        "    return new_population, compute_loss(sorted_population[m-1])"
      ],
      "metadata": {
        "id": "4kFQvFaFtQwo"
      },
      "execution_count": 22,
      "outputs": []
    },
    {
      "cell_type": "code",
      "source": [
        "individual1 = [4.09, 4.82, 3.10, 4.02]\n",
        "individual2 = [3.44, 2.57, -0.79, -2.41]\n",
        "old_population = [individual1, individual2]\n",
        "new_population, _ = create_new_population(old_population, elitism=2, gen=1)"
      ],
      "metadata": {
        "colab": {
          "base_uri": "https://localhost:8080/"
        },
        "id": "71KSkzj2tZY4",
        "outputId": "426d602e-f40d-45d3-c7a0-67ee5096c203"
      },
      "execution_count": 23,
      "outputs": [
        {
          "output_type": "stream",
          "name": "stdout",
          "text": [
            "Best loss: 123415.051528805 with chromsome:  [3.44, 2.57, -0.79, -2.41]\n"
          ]
        }
      ]
    },
    {
      "cell_type": "code",
      "source": [
        "def run_GA():\n",
        "  n_generations = 100\n",
        "  m = 600\n",
        "  features_X, sales_Y = load_data_from_file()\n",
        "  population = initializePopulation(m)\n",
        "  losses_list = []\n",
        "  for i in range(n_generations):\n",
        "    population, losses = create_new_population(population, 2, i)\n",
        "    losses_list.append(losses)\n",
        "  return losses_list\n"
      ],
      "metadata": {
        "id": "xHXZ7DOptdkT"
      },
      "execution_count": 25,
      "outputs": []
    },
    {
      "cell_type": "code",
      "source": [
        "import matplotlib.pyplot as plt\n",
        "\n",
        "def visualize_loss(losses_list):\n",
        "  plt.plot(losses_list, c='green')\n",
        "  plt.xlabel('Generations')\n",
        "  plt.ylabel('losses')\n",
        "  plt.show()\n",
        "\n",
        "losses_list = run_GA()\n",
        "visualize_loss(losses_list)"
      ],
      "metadata": {
        "colab": {
          "base_uri": "https://localhost:8080/",
          "height": 1000
        },
        "id": "Z-m9O7nXtpRr",
        "outputId": "3394a4ef-5c38-4a0f-a0ce-9f23264c3748"
      },
      "execution_count": 27,
      "outputs": [
        {
          "output_type": "stream",
          "name": "stdout",
          "text": [
            "Best loss: 1049.1103131651498 with chromsome:  [-1.2439864083756291, -0.2097105385284559, 1.4446199087989742, -0.010676274335411629]\n",
            "Best loss: 775.0166538944146 with chromsome:  [-0.027115714214624997, -0.006320959815662164, 1.4637532163871803, -1.013005521624285]\n",
            "Best loss: 775.0166538944146 with chromsome:  [-0.027115714214624997, -0.006320959815662164, 1.4637532163871803, -1.013005521624285]\n",
            "Best loss: 775.0166538944146 with chromsome:  [-0.027115714214624997, -0.006320959815662164, 1.4637532163871803, -1.013005521624285]\n",
            "Best loss: 242.16271763028462 with chromsome:  [3.5669987923445943, 0.048689906598547994, 0.569597176981278, 0.13674461207339172]\n",
            "Best loss: 213.0488738125476 with chromsome:  [2.3968383580954447, 0.048689906598547994, 0.569597176981278, 0.13674461207339172]\n",
            "Best loss: 174.04271872477082 with chromsome:  [3.001218866025457, 0.048689906598547994, -0.42852009616953235, 0.13674461207339172]\n",
            "Best loss: 38.75166663513226 with chromsome:  [-0.16580938117906063, 0.03810890245207865, 0.34575364699021893, 0.13674461207339172]\n",
            "Best loss: 38.75166663513226 with chromsome:  [-0.16580938117906063, 0.03810890245207865, 0.34575364699021893, 0.13674461207339172]\n",
            "Best loss: 37.76064869045113 with chromsome:  [-0.369979510240529, 0.03810890245207865, 0.34575364699021893, 0.13674461207339172]\n",
            "Best loss: 35.54543828466651 with chromsome:  [-0.9088496331356466, 0.03810890245207865, 0.34575364699021893, 0.13674461207339172]\n",
            "Best loss: 35.54543828466651 with chromsome:  [-0.9088496331356466, 0.03810890245207865, 0.34575364699021893, 0.13674461207339172]\n",
            "Best loss: 28.00061069987802 with chromsome:  [4.742240698681547, 0.048689906598547994, 0.12925833171127055, 0.13674461207339172]\n",
            "Best loss: 15.121188581338822 with chromsome:  [3.5669987923445943, 0.048689906598547994, 0.34575364699021893, -0.1068254427473847]\n",
            "Best loss: 8.117358481187471 with chromsome:  [4.742240698681547, 0.048689906598547994, 0.12925833171127055, 0.06348693441928566]\n",
            "Best loss: 8.117358481187471 with chromsome:  [4.742240698681547, 0.048689906598547994, 0.12925833171127055, 0.06348693441928566]\n",
            "Best loss: 8.117358481187471 with chromsome:  [4.742240698681547, 0.048689906598547994, 0.12925833171127055, 0.06348693441928566]\n",
            "Best loss: 6.732759804014579 with chromsome:  [4.742240698681547, 0.03810890245207865, 0.12925833171127055, 0.06348693441928566]\n",
            "Best loss: 6.732759804014579 with chromsome:  [4.742240698681547, 0.03810890245207865, 0.12925833171127055, 0.06348693441928566]\n",
            "Best loss: 6.732759804014579 with chromsome:  [4.742240698681547, 0.03810890245207865, 0.12925833171127055, 0.06348693441928566]\n",
            "Best loss: 6.732759804014579 with chromsome:  [4.742240698681547, 0.03810890245207865, 0.12925833171127055, 0.06348693441928566]\n",
            "Best loss: 6.52366415720975 with chromsome:  [1.644711906003784, 0.048689906598547994, 0.15815725211710263, 0.06348693441928566]\n",
            "Best loss: 6.52366415720975 with chromsome:  [1.644711906003784, 0.048689906598547994, 0.15815725211710263, 0.06348693441928566]\n",
            "Best loss: 6.52366415720975 with chromsome:  [1.644711906003784, 0.048689906598547994, 0.15815725211710263, 0.06348693441928566]\n",
            "Best loss: 5.206391321050287 with chromsome:  [3.226168631541638, 0.048689906598547994, 0.12925833171127055, 0.06348693441928566]\n",
            "Best loss: 5.169338138987538 with chromsome:  [3.085412198633102, 0.048689906598547994, 0.12925833171127055, 0.06348693441928566]\n",
            "Best loss: 5.169338138987538 with chromsome:  [3.085412198633102, 0.048689906598547994, 0.12925833171127055, 0.06348693441928566]\n",
            "Best loss: 5.169338138987538 with chromsome:  [3.085412198633102, 0.048689906598547994, 0.12925833171127055, 0.06348693441928566]\n",
            "Best loss: 5.16731052922142 with chromsome:  [2.982657993850556, 0.048689906598547994, 0.12925833171127055, 0.06348693441928566]\n",
            "Best loss: 5.16731052922142 with chromsome:  [2.982657993850556, 0.048689906598547994, 0.12925833171127055, 0.06348693441928566]\n",
            "Best loss: 5.075819472477978 with chromsome:  [3.226168631541638, 0.048689906598547994, 0.12481245928416373, 0.06348693441928566]\n",
            "Best loss: 5.075819472477978 with chromsome:  [3.226168631541638, 0.048689906598547994, 0.12481245928416373, 0.06348693441928566]\n",
            "Best loss: 5.075819472477978 with chromsome:  [3.226168631541638, 0.048689906598547994, 0.12481245928416373, 0.06348693441928566]\n",
            "Best loss: 5.067882821595538 with chromsome:  [3.085412198633102, 0.048689906598547994, 0.12481245928416373, 0.06348693441928566]\n",
            "Best loss: 4.800332606744703 with chromsome:  [3.5669987923445943, 0.048689906598547994, 0.0849108804229437, 0.06348693441928566]\n",
            "Best loss: 4.800332606744703 with chromsome:  [3.5669987923445943, 0.048689906598547994, 0.0849108804229437, 0.06348693441928566]\n",
            "Best loss: 4.800332606744703 with chromsome:  [3.5669987923445943, 0.048689906598547994, 0.0849108804229437, 0.06348693441928566]\n",
            "Best loss: 4.2132290176168805 with chromsome:  [3.226168631541638, 0.048689906598547994, 0.12925833171127055, 0.03196973963488947]\n",
            "Best loss: 4.2132290176168805 with chromsome:  [3.226168631541638, 0.048689906598547994, 0.12925833171127055, 0.03196973963488947]\n",
            "Best loss: 4.2132290176168805 with chromsome:  [3.226168631541638, 0.048689906598547994, 0.12925833171127055, 0.03196973963488947]\n",
            "Best loss: 4.2132290176168805 with chromsome:  [3.226168631541638, 0.048689906598547994, 0.12925833171127055, 0.03196973963488947]\n",
            "Best loss: 4.2132290176168805 with chromsome:  [3.226168631541638, 0.048689906598547994, 0.12925833171127055, 0.03196973963488947]\n",
            "Best loss: 3.75989734324202 with chromsome:  [3.632527621478121, 0.048689906598547994, 0.12925833171127055, 0.03196973963488947]\n",
            "Best loss: 3.3149903786382207 with chromsome:  [4.254568666426835, 0.048689906598547994, 0.12481245928416373, 0.02250413608648305]\n",
            "Best loss: 3.3149903786382207 with chromsome:  [4.254568666426835, 0.048689906598547994, 0.12481245928416373, 0.02250413608648305]\n",
            "Best loss: 3.3149903786382207 with chromsome:  [4.254568666426835, 0.048689906598547994, 0.12481245928416373, 0.02250413608648305]\n",
            "Best loss: 3.3149903786382207 with chromsome:  [4.254568666426835, 0.048689906598547994, 0.12481245928416373, 0.02250413608648305]\n",
            "Best loss: 3.3149903786382207 with chromsome:  [4.254568666426835, 0.048689906598547994, 0.12481245928416373, 0.02250413608648305]\n",
            "Best loss: 3.3149903786382207 with chromsome:  [4.254568666426835, 0.048689906598547994, 0.12481245928416373, 0.02250413608648305]\n",
            "Best loss: 3.3149903786382207 with chromsome:  [4.254568666426835, 0.048689906598547994, 0.12481245928416373, 0.02250413608648305]\n",
            "Best loss: 3.3149903786382207 with chromsome:  [4.254568666426835, 0.048689906598547994, 0.12481245928416373, 0.02250413608648305]\n",
            "Best loss: 3.3149903786382207 with chromsome:  [4.254568666426835, 0.048689906598547994, 0.12481245928416373, 0.02250413608648305]\n",
            "Best loss: 3.3149903786382207 with chromsome:  [4.254568666426835, 0.048689906598547994, 0.12481245928416373, 0.02250413608648305]\n",
            "Best loss: 3.3149903786382207 with chromsome:  [4.254568666426835, 0.048689906598547994, 0.12481245928416373, 0.02250413608648305]\n",
            "Best loss: 3.3149903786382207 with chromsome:  [4.254568666426835, 0.048689906598547994, 0.12481245928416373, 0.02250413608648305]\n",
            "Best loss: 3.3149903786382207 with chromsome:  [4.254568666426835, 0.048689906598547994, 0.12481245928416373, 0.02250413608648305]\n",
            "Best loss: 3.3149903786382207 with chromsome:  [4.254568666426835, 0.048689906598547994, 0.12481245928416373, 0.02250413608648305]\n",
            "Best loss: 3.3149903786382207 with chromsome:  [4.254568666426835, 0.048689906598547994, 0.12481245928416373, 0.02250413608648305]\n",
            "Best loss: 3.3149903786382207 with chromsome:  [4.254568666426835, 0.048689906598547994, 0.12481245928416373, 0.02250413608648305]\n",
            "Best loss: 3.3023437221661776 with chromsome:  [4.43485611658275, 0.048689906598547994, 0.12481245928416373, 0.02250413608648305]\n",
            "Best loss: 3.3023437221661776 with chromsome:  [4.43485611658275, 0.048689906598547994, 0.12481245928416373, 0.02250413608648305]\n",
            "Best loss: 3.3023437221661776 with chromsome:  [4.43485611658275, 0.048689906598547994, 0.12481245928416373, 0.02250413608648305]\n",
            "Best loss: 3.3023437221661776 with chromsome:  [4.43485611658275, 0.048689906598547994, 0.12481245928416373, 0.02250413608648305]\n",
            "Best loss: 3.3023437221661776 with chromsome:  [4.43485611658275, 0.048689906598547994, 0.12481245928416373, 0.02250413608648305]\n",
            "Best loss: 3.3023437221661776 with chromsome:  [4.43485611658275, 0.048689906598547994, 0.12481245928416373, 0.02250413608648305]\n",
            "Best loss: 3.3023437221661776 with chromsome:  [4.43485611658275, 0.048689906598547994, 0.12481245928416373, 0.02250413608648305]\n",
            "Best loss: 3.299932086761792 with chromsome:  [4.404707545071458, 0.048689906598547994, 0.12481245928416373, 0.02250413608648305]\n",
            "Best loss: 3.299932086761792 with chromsome:  [4.404707545071458, 0.048689906598547994, 0.12481245928416373, 0.02250413608648305]\n",
            "Best loss: 3.299932086761792 with chromsome:  [4.404707545071458, 0.048689906598547994, 0.12481245928416373, 0.02250413608648305]\n",
            "Best loss: 3.299932086761792 with chromsome:  [4.404707545071458, 0.048689906598547994, 0.12481245928416373, 0.02250413608648305]\n",
            "Best loss: 3.299932086761792 with chromsome:  [4.404707545071458, 0.048689906598547994, 0.12481245928416373, 0.02250413608648305]\n",
            "Best loss: 3.299932086761792 with chromsome:  [4.404707545071458, 0.048689906598547994, 0.12481245928416373, 0.02250413608648305]\n",
            "Best loss: 3.299932086761792 with chromsome:  [4.404707545071458, 0.048689906598547994, 0.12481245928416373, 0.02250413608648305]\n",
            "Best loss: 3.2998999412454966 with chromsome:  [4.404054043095909, 0.048689906598547994, 0.12481245928416373, 0.02250413608648305]\n",
            "Best loss: 3.2998999412454966 with chromsome:  [4.404054043095909, 0.048689906598547994, 0.12481245928416373, 0.02250413608648305]\n",
            "Best loss: 3.2998999412454966 with chromsome:  [4.404054043095909, 0.048689906598547994, 0.12481245928416373, 0.02250413608648305]\n",
            "Best loss: 3.2998999412454966 with chromsome:  [4.404054043095909, 0.048689906598547994, 0.12481245928416373, 0.02250413608648305]\n",
            "Best loss: 3.2998999412454966 with chromsome:  [4.404054043095909, 0.048689906598547994, 0.12481245928416373, 0.02250413608648305]\n",
            "Best loss: 3.2998999412454966 with chromsome:  [4.404054043095909, 0.048689906598547994, 0.12481245928416373, 0.02250413608648305]\n",
            "Best loss: 3.2998999412454966 with chromsome:  [4.404054043095909, 0.048689906598547994, 0.12481245928416373, 0.02250413608648305]\n",
            "Best loss: 3.2998999412454966 with chromsome:  [4.404054043095909, 0.048689906598547994, 0.12481245928416373, 0.02250413608648305]\n",
            "Best loss: 3.242778510396596 with chromsome:  [4.404054043095909, 0.048689906598547994, 0.1157908864660695, 0.02250413608648305]\n",
            "Best loss: 3.242778510396596 with chromsome:  [4.404054043095909, 0.048689906598547994, 0.1157908864660695, 0.02250413608648305]\n",
            "Best loss: 3.1995391842402863 with chromsome:  [4.404054043095909, 0.048689906598547994, 0.12481245928416373, 0.010471673339002008]\n",
            "Best loss: 3.1995391842402863 with chromsome:  [4.404054043095909, 0.048689906598547994, 0.12481245928416373, 0.010471673339002008]\n",
            "Best loss: 3.1995391842402863 with chromsome:  [4.404054043095909, 0.048689906598547994, 0.12481245928416373, 0.010471673339002008]\n",
            "Best loss: 3.1995391842402863 with chromsome:  [4.404054043095909, 0.048689906598547994, 0.12481245928416373, 0.010471673339002008]\n",
            "Best loss: 3.1995391842402863 with chromsome:  [4.404054043095909, 0.048689906598547994, 0.12481245928416373, 0.010471673339002008]\n",
            "Best loss: 3.1995391842402863 with chromsome:  [4.404054043095909, 0.048689906598547994, 0.12481245928416373, 0.010471673339002008]\n",
            "Best loss: 3.1990908229981105 with chromsome:  [4.404707545071458, 0.048689906598547994, 0.12481245928416373, 0.010471673339002008]\n",
            "Best loss: 3.1990908229981105 with chromsome:  [4.404707545071458, 0.048689906598547994, 0.12481245928416373, 0.010471673339002008]\n",
            "Best loss: 3.1980927280507103 with chromsome:  [4.406166796518978, 0.048689906598547994, 0.12481245928416373, 0.010471673339002008]\n",
            "Best loss: 3.0943382172292853 with chromsome:  [4.634717242065332, 0.048689906598547994, 0.12481245928416373, 0.010471673339002008]\n",
            "Best loss: 3.016192137160269 with chromsome:  [4.985715679316428, 0.048689906598547994, 0.1157908864660695, 0.010471673339002008]\n",
            "Best loss: 3.016192137160269 with chromsome:  [4.985715679316428, 0.048689906598547994, 0.1157908864660695, 0.010471673339002008]\n",
            "Best loss: 3.016192137160269 with chromsome:  [4.985715679316428, 0.048689906598547994, 0.1157908864660695, 0.010471673339002008]\n",
            "Best loss: 3.016192137160269 with chromsome:  [4.985715679316428, 0.048689906598547994, 0.1157908864660695, 0.010471673339002008]\n",
            "Best loss: 3.016192137160269 with chromsome:  [4.985715679316428, 0.048689906598547994, 0.1157908864660695, 0.010471673339002008]\n",
            "Best loss: 3.016192137160269 with chromsome:  [4.985715679316428, 0.048689906598547994, 0.1157908864660695, 0.010471673339002008]\n",
            "Best loss: 3.016192137160269 with chromsome:  [4.985715679316428, 0.048689906598547994, 0.1157908864660695, 0.010471673339002008]\n"
          ]
        },
        {
          "output_type": "display_data",
          "data": {
            "text/plain": [
              "<Figure size 640x480 with 1 Axes>"
            ],
            "image/png": "[encoded data removed]"
          },
          "metadata": {}
        }
      ]
    }
  ]
}